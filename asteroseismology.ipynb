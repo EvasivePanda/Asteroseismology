{
  "nbformat": 4,
  "nbformat_minor": 0,
  "metadata": {
    "colab": {
      "name": "Copy of asteroseismology.ipynb",
      "provenance": [],
      "collapsed_sections": [],
      "authorship_tag": "ABX9TyMTfFUX40dR+Dt2figoFTDc",
      "include_colab_link": true
    },
    "kernelspec": {
      "name": "python3",
      "display_name": "Python 3"
    },
    "language_info": {
      "name": "python"
    },
    "accelerator": "GPU"
  },
  "cells": [
    {
      "cell_type": "markdown",
      "metadata": {
        "id": "view-in-github",
        "colab_type": "text"
      },
      "source": [
        "<a href=\"https://colab.research.google.com/github/EvasivePanda/Asteroseismology/blob/main/asteroseismology.ipynb\" target=\"_parent\"><img src=\"https://colab.research.google.com/assets/colab-badge.svg\" alt=\"Open In Colab\"/></a>"
      ]
    },
    {
      "cell_type": "markdown",
      "source": [
        "Importing all packages neccessary for analysis"
      ],
      "metadata": {
        "id": "2WRk7fwCwpYL"
      }
    },
    {
      "cell_type": "code",
      "execution_count": null,
      "metadata": {
        "id": "KGtBXu2GhKcY"
      },
      "outputs": [],
      "source": [
        "import keras\n",
        "import tensorflow as tf\n",
        "from sklearn.model_selection import train_test_split\n",
        "from tensorflow import  keras\n",
        "from keras.models import Sequential\n",
        "from keras.layers import Dense, Dropout\n",
        "import pandas as pd\n",
        "import numpy as np\n",
        "from matplotlib import pyplot as plt\n",
        "from sklearn.preprocessing import StandardScaler\n",
        "import seaborn as sbn\n",
        "from numpy import argmax\n"
      ]
    },
    {
      "cell_type": "markdown",
      "source": [
        "This code will read the dataset and load it as a pandas dataframe"
      ],
      "metadata": {
        "id": "PpCW3_QpwvcI"
      }
    },
    {
      "cell_type": "code",
      "source": [
        "df = pd.read_csv('/content/sample_data/classification_in_asteroseismology.csv')\n",
        "df.columns\n"
      ],
      "metadata": {
        "id": "zv4KQA4wQBFf",
        "colab": {
          "base_uri": "https://localhost:8080/"
        },
        "outputId": "ee970706-f618-43e7-f376-ce2bd6182e96"
      },
      "execution_count": null,
      "outputs": [
        {
          "output_type": "execute_result",
          "data": {
            "text/plain": [
              "Index(['POP', 'Dnu', 'numax', 'epsilon'], dtype='object')"
            ]
          },
          "metadata": {},
          "execution_count": 49
        }
      ]
    },
    {
      "cell_type": "markdown",
      "source": [
        "Population class predictions for Kepler red giants\n",
        "Population as follows:\n",
        "0 = RGB\n",
        "1 = HeB\n",
        "\n",
        "RGB (Red-Giant-Branch)\n",
        "HeB (Helium Burning)"
      ],
      "metadata": {
        "id": "Ow-QOcvGs_5h"
      }
    },
    {
      "cell_type": "markdown",
      "source": [
        "Pop is our value we are trying to predict so we will place this seperately from the predictors."
      ],
      "metadata": {
        "id": "Yq2ghW-hxDdI"
      }
    },
    {
      "cell_type": "code",
      "source": [
        "y = df['POP']\n",
        "df = df.drop(columns = ['POP'], axis =1)\n",
        "y.head(5)"
      ],
      "metadata": {
        "colab": {
          "base_uri": "https://localhost:8080/"
        },
        "id": "GHK0TkNazzNK",
        "outputId": "01709852-cdfa-4710-eccc-0607dea6fefd"
      },
      "execution_count": null,
      "outputs": [
        {
          "output_type": "execute_result",
          "data": {
            "text/plain": [
              "0    1\n",
              "1    0\n",
              "2    1\n",
              "3    1\n",
              "4    0\n",
              "Name: POP, dtype: int64"
            ]
          },
          "metadata": {},
          "execution_count": 50
        }
      ]
    },
    {
      "cell_type": "markdown",
      "source": [
        "Next, this code will create a correlation plot "
      ],
      "metadata": {
        "id": "qBIJamTvw35T"
      }
    },
    {
      "cell_type": "code",
      "source": [
        "corr = df.corr()\n",
        "plt.figure(figsize=[12,12])\n",
        "sbn.heatmap(corr,annot=True, vmax=1.0,vmin=-1.0,)\n",
        "plt.show()"
      ],
      "metadata": {
        "colab": {
          "base_uri": "https://localhost:8080/",
          "height": 704
        },
        "id": "TA1WTzI9xAND",
        "outputId": "effff13a-050f-4b01-ccc7-d52d759a091f"
      },
      "execution_count": null,
      "outputs": [
        {
          "output_type": "display_data",
          "data": {
            "text/plain": [
              "<Figure size 864x864 with 2 Axes>"
            ],
            "image/png": "[encoded data removed]"
          },
          "metadata": {
            "needs_background": "light"
          }
        }
      ]
    },
    {
      "cell_type": "code",
      "source": [
        "df.describe()"
      ],
      "metadata": {
        "colab": {
          "base_uri": "https://localhost:8080/",
          "height": 300
        },
        "id": "5UH4kT-QNpz8",
        "outputId": "f11d861a-b8f3-4a73-a68b-6286791b9a1a"
      },
      "execution_count": null,
      "outputs": [
        {
          "output_type": "execute_result",
          "data": {
            "text/plain": [
              "             numax      epsilon\n",
              "count  1001.000000  1001.000000\n",
              "mean     58.441771     0.610774\n",
              "std      43.425561     0.342518\n",
              "min      17.979780     0.005000\n",
              "25%      32.924350     0.220000\n",
              "50%      38.293160     0.815000\n",
              "75%      70.140830     0.890000\n",
              "max     239.648480     1.000000"
            ],
            "text/html": [
              "\n",
              "  <div id=\"df-574c21e5-8091-4221-a2b3-85d3b808bbba\">\n",
              "    <div class=\"colab-df-container\">\n",
              "      <div>\n",
              "<style scoped>\n",
              "    .dataframe tbody tr th:only-of-type {\n",
              "        vertical-align: middle;\n",
              "    }\n",
              "\n",
              "    .dataframe tbody tr th {\n",
              "        vertical-align: top;\n",
              "    }\n",
              "\n",
              "    .dataframe thead th {\n",
              "        text-align: right;\n",
              "    }\n",
              "</style>\n",
              "<table border=\"1\" class=\"dataframe\">\n",
              "  <thead>\n",
              "    <tr style=\"text-align: right;\">\n",
              "      <th></th>\n",
              "      <th>numax</th>\n",
              "      <th>epsilon</th>\n",
              "    </tr>\n",
              "  </thead>\n",
              "  <tbody>\n",
              "    <tr>\n",
              "      <th>count</th>\n",
              "      <td>1001.000000</td>\n",
              "      <td>1001.000000</td>\n",
              "    </tr>\n",
              "    <tr>\n",
              "      <th>mean</th>\n",
              "      <td>58.441771</td>\n",
              "      <td>0.610774</td>\n",
              "    </tr>\n",
              "    <tr>\n",
              "      <th>std</th>\n",
              "      <td>43.425561</td>\n",
              "      <td>0.342518</td>\n",
              "    </tr>\n",
              "    <tr>\n",
              "      <th>min</th>\n",
              "      <td>17.979780</td>\n",
              "      <td>0.005000</td>\n",
              "    </tr>\n",
              "    <tr>\n",
              "      <th>25%</th>\n",
              "      <td>32.924350</td>\n",
              "      <td>0.220000</td>\n",
              "    </tr>\n",
              "    <tr>\n",
              "      <th>50%</th>\n",
              "      <td>38.293160</td>\n",
              "      <td>0.815000</td>\n",
              "    </tr>\n",
              "    <tr>\n",
              "      <th>75%</th>\n",
              "      <td>70.140830</td>\n",
              "      <td>0.890000</td>\n",
              "    </tr>\n",
              "    <tr>\n",
              "      <th>max</th>\n",
              "      <td>239.648480</td>\n",
              "      <td>1.000000</td>\n",
              "    </tr>\n",
              "  </tbody>\n",
              "</table>\n",
              "</div>\n",
              "      <button class=\"colab-df-convert\" onclick=\"convertToInteractive('df-574c21e5-8091-4221-a2b3-85d3b808bbba')\"\n",
              "              title=\"Convert this dataframe to an interactive table.\"\n",
              "              style=\"display:none;\">\n",
              "        \n",
              "  <svg xmlns=\"http://www.w3.org/2000/svg\" height=\"24px\"viewBox=\"0 0 24 24\"\n",
              "       width=\"24px\">\n",
              "    <path d=\"M0 0h24v24H0V0z\" fill=\"none\"/>\n",
              "    <path d=\"M18.56 5.44l.94 2.06.94-2.06 2.06-.94-2.06-.94-.94-2.06-.94 2.06-2.06.94zm-11 1L8.5 8.5l.94-2.06 2.06-.94-2.06-.94L8.5 2.5l-.94 2.06-2.06.94zm10 10l.94 2.06.94-2.06 2.06-.94-2.06-.94-.94-2.06-.94 2.06-2.06.94z\"/><path d=\"M17.41 7.96l-1.37-1.37c-.4-.4-.92-.59-1.43-.59-.52 0-1.04.2-1.43.59L10.3 9.45l-7.72 7.72c-.78.78-.78 2.05 0 2.83L4 21.41c.39.39.9.59 1.41.59.51 0 1.02-.2 1.41-.59l7.78-7.78 2.81-2.81c.8-.78.8-2.07 0-2.86zM5.41 20L4 18.59l7.72-7.72 1.47 1.35L5.41 20z\"/>\n",
              "  </svg>\n",
              "      </button>\n",
              "      \n",
              "  <style>\n",
              "    .colab-df-container {\n",
              "      display:flex;\n",
              "      flex-wrap:wrap;\n",
              "      gap: 12px;\n",
              "    }\n",
              "\n",
              "    .colab-df-convert {\n",
              "      background-color: #E8F0FE;\n",
              "      border: none;\n",
              "      border-radius: 50%;\n",
              "      cursor: pointer;\n",
              "      display: none;\n",
              "      fill: #1967D2;\n",
              "      height: 32px;\n",
              "      padding: 0 0 0 0;\n",
              "      width: 32px;\n",
              "    }\n",
              "\n",
              "    .colab-df-convert:hover {\n",
              "      background-color: #E2EBFA;\n",
              "      box-shadow: 0px 1px 2px rgba(60, 64, 67, 0.3), 0px 1px 3px 1px rgba(60, 64, 67, 0.15);\n",
              "      fill: #174EA6;\n",
              "    }\n",
              "\n",
              "    [theme=dark] .colab-df-convert {\n",
              "      background-color: #3B4455;\n",
              "      fill: #D2E3FC;\n",
              "    }\n",
              "\n",
              "    [theme=dark] .colab-df-convert:hover {\n",
              "      background-color: #434B5C;\n",
              "      box-shadow: 0px 1px 3px 1px rgba(0, 0, 0, 0.15);\n",
              "      filter: drop-shadow(0px 1px 2px rgba(0, 0, 0, 0.3));\n",
              "      fill: #FFFFFF;\n",
              "    }\n",
              "  </style>\n",
              "\n",
              "      <script>\n",
              "        const buttonEl =\n",
              "          document.querySelector('#df-574c21e5-8091-4221-a2b3-85d3b808bbba button.colab-df-convert');\n",
              "        buttonEl.style.display =\n",
              "          google.colab.kernel.accessAllowed ? 'block' : 'none';\n",
              "\n",
              "        async function convertToInteractive(key) {\n",
              "          const element = document.querySelector('#df-574c21e5-8091-4221-a2b3-85d3b808bbba');\n",
              "          const dataTable =\n",
              "            await google.colab.kernel.invokeFunction('convertToInteractive',\n",
              "                                                     [key], {});\n",
              "          if (!dataTable) return;\n",
              "\n",
              "          const docLinkHtml = 'Like what you see? Visit the ' +\n",
              "            '<a target=\"_blank\" href=https://colab.research.google.com/notebooks/data_table.ipynb>data table notebook</a>'\n",
              "            + ' to learn more about interactive tables.';\n",
              "          element.innerHTML = '';\n",
              "          dataTable['output_type'] = 'display_data';\n",
              "          await google.colab.output.renderOutput(dataTable, element);\n",
              "          const docLink = document.createElement('div');\n",
              "          docLink.innerHTML = docLinkHtml;\n",
              "          element.appendChild(docLink);\n",
              "        }\n",
              "      </script>\n",
              "    </div>\n",
              "  </div>\n",
              "  "
            ]
          },
          "metadata": {},
          "execution_count": 53
        }
      ]
    },
    {
      "cell_type": "code",
      "source": [
        "#Checking the datatypes of the values in the dataset\n",
        "df.info()"
      ],
      "metadata": {
        "colab": {
          "base_uri": "https://localhost:8080/"
        },
        "id": "DtdSNOnbNrsF",
        "outputId": "46421b73-7968-4c8e-ec40-45a29995583f"
      },
      "execution_count": null,
      "outputs": [
        {
          "output_type": "stream",
          "name": "stdout",
          "text": [
            "<class 'pandas.core.frame.DataFrame'>\n",
            "RangeIndex: 1001 entries, 0 to 1000\n",
            "Data columns (total 2 columns):\n",
            " #   Column   Non-Null Count  Dtype  \n",
            "---  ------   --------------  -----  \n",
            " 0   numax    1001 non-null   float64\n",
            " 1   epsilon  1001 non-null   float64\n",
            "dtypes: float64(2)\n",
            "memory usage: 15.8 KB\n"
          ]
        }
      ]
    },
    {
      "cell_type": "code",
      "source": [
        "#Checking for if there are null values in the dataset\n",
        "df.isnull().sum()"
      ],
      "metadata": {
        "colab": {
          "base_uri": "https://localhost:8080/"
        },
        "id": "VnSL_gpKNtd7",
        "outputId": "4a8b939a-277f-451b-8a71-8be826d381ce"
      },
      "execution_count": null,
      "outputs": [
        {
          "output_type": "execute_result",
          "data": {
            "text/plain": [
              "numax      0\n",
              "epsilon    0\n",
              "dtype: int64"
            ]
          },
          "metadata": {},
          "execution_count": 55
        }
      ]
    },
    {
      "cell_type": "code",
      "source": [
        "#Standard scaler is done to keep all values of the dataset in a range of 0-1 inclusive and have a normal distribution\n",
        "df = StandardScaler().fit_transform(df)"
      ],
      "metadata": {
        "id": "LVGFh-EHyBup"
      },
      "execution_count": null,
      "outputs": []
    },
    {
      "cell_type": "code",
      "source": [
        "#Change the datatype saved to be float 32 for tensorflow usage\n",
        "y = np.asarray(y).astype('float32')\n",
        "df = np.asarray(df).astype('float32')"
      ],
      "metadata": {
        "id": "yq0MY_nO6Ebs"
      },
      "execution_count": null,
      "outputs": []
    },
    {
      "cell_type": "code",
      "source": [
        "#Split the dataset into a training section and a testing section\n",
        "x_train, x_test, y_train, y_test = train_test_split(df,y, test_size = .30, random_state = 0)"
      ],
      "metadata": {
        "id": "FF-J8ZtUQ2Py"
      },
      "execution_count": null,
      "outputs": []
    },
    {
      "cell_type": "code",
      "source": [
        "print(x_train.shape)\n",
        "print(x_test.shape)\n",
        "print(y_train.shape)\n",
        "print(y_test.shape)\n"
      ],
      "metadata": {
        "colab": {
          "base_uri": "https://localhost:8080/"
        },
        "id": "_CveEm8XSch_",
        "outputId": "25ad949a-e4bb-4a9c-9d6a-3951e3c26bd2"
      },
      "execution_count": null,
      "outputs": [
        {
          "output_type": "stream",
          "name": "stdout",
          "text": [
            "(700, 2)\n",
            "(301, 2)\n",
            "(700,)\n",
            "(301,)\n"
          ]
        }
      ]
    },
    {
      "cell_type": "markdown",
      "source": [
        "To try to find the best model I will create multiple models of different compositions in order to try to find the best model for this task."
      ],
      "metadata": {
        "id": "3ugfq5YRx2pW"
      }
    },
    {
      "cell_type": "code",
      "source": [
        "mapOfAccLoss = {}"
      ],
      "metadata": {
        "id": "1cnhwFYco03-"
      },
      "execution_count": null,
      "outputs": []
    },
    {
      "cell_type": "code",
      "source": [
        "\n",
        "input_shape=[x_train.shape[1]]\n",
        "model=Sequential()\n",
        "\n",
        "model.add(Dense(8,activation='relu',input_shape = input_shape))\n",
        "#model2.add(Dropout(0.6))\n",
        "\n",
        "model.add(Dense(1, activation = 'sigmoid'))\n",
        "#model2.add(Dropout(0.6))\n",
        "\n",
        "optimizers= ['adam']#, 'SGD', 'adamax', 'RMSprop','adadelta', 'adagrad', 'nadam', 'Ftrl']\n",
        "for opti in optimizers:\n",
        "  model.compile(optimizer=opti,loss='BinaryCrossentropy',metrics=['accuracy'])\n",
        "  history=model.fit(x_train,y_train,validation_data=(x_test,y_test), epochs=5,batch_size=1,verbose=1)\n",
        "\n",
        "#Evaluation of model\n",
        "  loss, accuracy = model.evaluate(x_test, y_test, verbose=0)\n",
        "  print(opti)\n",
        "  print('Test loss:', loss)\n",
        "  print('Test accuracy:', accuracy)\n",
        "  mapOfAccLoss[opti] = [loss, accuracy]\n",
        "\n",
        "#Printing the loss values\n",
        "loss = history.history['loss']\n",
        "val_loss = history.history['val_loss']\n",
        "epochs = range(1,1+len(loss))\n",
        "plt.plot(epochs, loss, 'y', label= 'Training Loss')\n",
        "plt.plot(epochs, val_loss, 'r', label= 'Validation Loss')\n",
        "plt.xlabel(\"epochs\")\n",
        "plt.ylabel(\"loss\")\n",
        "plt.title(\"training vs validation loss\")\n",
        "plt.legend()\n",
        "plt.show()"
      ],
      "metadata": {
        "id": "zM4ivE4QSxvz",
        "colab": {
          "base_uri": "https://localhost:8080/",
          "height": 521
        },
        "outputId": "7d58d50c-8432-4452-ffb5-7e325a7d185f"
      },
      "execution_count": null,
      "outputs": [
        {
          "output_type": "stream",
          "name": "stdout",
          "text": [
            "Epoch 1/5\n",
            "700/700 [==============================] - 7s 4ms/step - loss: 0.3193 - accuracy: 0.9143 - val_loss: 0.2317 - val_accuracy: 0.9236\n",
            "Epoch 2/5\n",
            "700/700 [==============================] - 3s 4ms/step - loss: 0.2046 - accuracy: 0.9386 - val_loss: 0.2057 - val_accuracy: 0.9402\n",
            "Epoch 3/5\n",
            "700/700 [==============================] - 3s 4ms/step - loss: 0.1893 - accuracy: 0.9357 - val_loss: 0.1992 - val_accuracy: 0.9435\n",
            "Epoch 4/5\n",
            "700/700 [==============================] - 3s 4ms/step - loss: 0.1845 - accuracy: 0.9329 - val_loss: 0.1964 - val_accuracy: 0.9435\n",
            "Epoch 5/5\n",
            "700/700 [==============================] - 3s 4ms/step - loss: 0.1814 - accuracy: 0.9314 - val_loss: 0.1947 - val_accuracy: 0.9435\n",
            "adam\n",
            "Test loss: 0.19466321170330048\n",
            "Test accuracy: 0.9435216188430786\n"
          ]
        },
        {
          "output_type": "display_data",
          "data": {
            "text/plain": [
              "<Figure size 432x288 with 1 Axes>"
            ],
            "image/png": "[encoded data removed]"
          },
          "metadata": {
            "needs_background": "light"
          }
        }
      ]
    },
    {
      "cell_type": "markdown",
      "source": [
        "The first value is the loss value and the next value is the models accuracy."
      ],
      "metadata": {
        "id": "ZazNn8DkyDo_"
      }
    },
    {
      "cell_type": "code",
      "source": [
        "print(mapOfAccLoss)"
      ],
      "metadata": {
        "id": "Q6tClkr3mQoo",
        "colab": {
          "base_uri": "https://localhost:8080/"
        },
        "outputId": "1d323021-1339-49cb-91dd-ae10c52ae295"
      },
      "execution_count": null,
      "outputs": [
        {
          "output_type": "stream",
          "name": "stdout",
          "text": [
            "{'adam': [0.19466321170330048, 0.9435216188430786]}\n"
          ]
        }
      ]
    },
    {
      "cell_type": "code",
      "source": [
        "mapOfAccLoss2 = {}"
      ],
      "metadata": {
        "id": "M1-H4RmHz-ua"
      },
      "execution_count": null,
      "outputs": []
    },
    {
      "cell_type": "code",
      "source": [
        "input_shape=[x_train.shape[1]]\n",
        "model2=Sequential()\n",
        "\n",
        "model2.add(Dense(64,activation='relu',input_shape = input_shape))\n",
        "model2.add(Dropout(0.2))\n",
        "\n",
        "model2.add(Dense(32,activation='relu'))\n",
        "model2.add(Dropout(0.1))\n",
        "\n",
        "model2.add(Dense(16,activation='relu'))\n",
        "model2.add(Dropout(0.1))\n",
        "\n",
        "model2.add(Dense(8,activation='relu'))\n",
        "model2.add(Dropout(0.1))\n",
        "\n",
        "model2.add(Dense(1, activation = 'sigmoid'))\n",
        "\n",
        "\n",
        "model2.compile(optimizer=\"adam\",loss='BinaryCrossentropy',metrics=['accuracy'])\n",
        "\n",
        "\n",
        "history=model2.fit(x_train,y_train,validation_data=(x_test,y_test), epochs=150,batch_size=1,verbose=0)\n",
        "\n",
        "#Evaluation of model\n",
        "loss, accuracy = model2.evaluate(x_test, y_test, verbose=0)\n",
        "print('adam')\n",
        "print('Test loss:', loss)\n",
        "print('Test accuracy: {}%'.format(accuracy*100))\n",
        "mapOfAccLoss2['adam'] = [loss, accuracy]\n",
        "\n",
        "#Printing the loss values\n",
        "loss = history.history['loss']\n",
        "val_loss = history.history['val_loss']\n",
        "epochs = range(1,1+len(loss))\n",
        "plt.plot(epochs, loss, 'y', label= 'Training Loss')\n",
        "plt.plot(epochs, val_loss, 'r', label= 'Validation Loss')\n",
        "plt.xlabel(\"epochs\")\n",
        "plt.ylabel(\"loss\")\n",
        "plt.title(\"training vs validation loss\")\n",
        "plt.legend()\n",
        "plt.show()"
      ],
      "metadata": {
        "id": "Vs0EC-R60BJG",
        "colab": {
          "base_uri": "https://localhost:8080/",
          "height": 347
        },
        "outputId": "ee87fdfe-e8aa-4629-9238-db112c5c0eec"
      },
      "execution_count": null,
      "outputs": [
        {
          "metadata": {
            "tags": null
          },
          "name": "stdout",
          "output_type": "stream",
          "text": [
            "adam\n",
            "Test loss: 0.09927242994308472\n",
            "Test accuracy: 97.34219312667847%\n"
          ]
        },
        {
          "data": {
            "image/png": "[encoded data removed]",
            "text/plain": [
              "<Figure size 432x288 with 1 Axes>"
            ]
          },
          "metadata": {},
          "output_type": "display_data"
        }
      ]
    },
    {
      "cell_type": "code",
      "source": [
        "print(mapOfAccLoss2)"
      ],
      "metadata": {
        "id": "jf65FGZu1-ij",
        "colab": {
          "base_uri": "https://localhost:8080/"
        },
        "outputId": "5249a933-6503-40f6-b0d6-b390f7f9f486"
      },
      "execution_count": null,
      "outputs": [
        {
          "metadata": {
            "tags": null
          },
          "name": "stdout",
          "output_type": "stream",
          "text": [
            "{'adam': [0.09927242994308472, 0.9734219312667847]}\n"
          ]
        }
      ]
    },
    {
      "cell_type": "markdown",
      "source": [
        "Using the better model. I will do some sample predictions based on the test data."
      ],
      "metadata": {
        "id": "MUlpsloWyMcr"
      }
    },
    {
      "cell_type": "code",
      "source": [
        "probability_model = keras.Sequential([model2, keras.layers.ReLU()])\n",
        "predictions = probability_model.predict(x_test)\n",
        "for x in range(len(predictions)):\n",
        "  if predictions[x] >.5:\n",
        "    predictions[x] =1\n",
        "  else:\n",
        "    predictions[x] =0"
      ],
      "metadata": {
        "id": "NzEKzzesM00s"
      },
      "execution_count": null,
      "outputs": []
    },
    {
      "cell_type": "markdown",
      "source": [
        "Small representation of the models predictions versus the actual value."
      ],
      "metadata": {
        "id": "CBNXrUdjyUP2"
      }
    },
    {
      "cell_type": "code",
      "source": [
        "print(\"predicted      ||  actual value\")\n",
        "print(\"________________________________\\n\")\n",
        "for x in range(40):\n",
        "  print(\"{} ||  {}\".format(predictions[x], y_test[x]))"
      ],
      "metadata": {
        "id": "YZ8uFb_Mw8OJ",
        "colab": {
          "base_uri": "https://localhost:8080/"
        },
        "outputId": "d845dd97-ff57-497e-bf3c-c53ff43aa7b9"
      },
      "execution_count": null,
      "outputs": [
        {
          "output_type": "stream",
          "name": "stdout",
          "text": [
            "predicted      ||  actual value\n",
            "________________________________\n",
            "\n",
            "[1.] ||  1.0\n",
            "[0.] ||  0.0\n",
            "[1.] ||  1.0\n",
            "[0.] ||  0.0\n",
            "[1.] ||  1.0\n",
            "[1.] ||  1.0\n",
            "[1.] ||  1.0\n",
            "[0.] ||  0.0\n",
            "[0.] ||  0.0\n",
            "[1.] ||  1.0\n",
            "[1.] ||  1.0\n",
            "[1.] ||  1.0\n",
            "[1.] ||  1.0\n",
            "[0.] ||  0.0\n",
            "[1.] ||  1.0\n",
            "[1.] ||  0.0\n",
            "[0.] ||  0.0\n",
            "[0.] ||  0.0\n",
            "[1.] ||  1.0\n",
            "[1.] ||  1.0\n",
            "[1.] ||  1.0\n",
            "[1.] ||  1.0\n",
            "[1.] ||  1.0\n",
            "[1.] ||  1.0\n",
            "[1.] ||  1.0\n",
            "[1.] ||  1.0\n",
            "[1.] ||  1.0\n",
            "[0.] ||  0.0\n",
            "[1.] ||  1.0\n",
            "[0.] ||  0.0\n",
            "[1.] ||  1.0\n",
            "[1.] ||  1.0\n",
            "[1.] ||  1.0\n",
            "[1.] ||  1.0\n",
            "[0.] ||  0.0\n",
            "[0.] ||  0.0\n",
            "[1.] ||  1.0\n",
            "[1.] ||  1.0\n",
            "[1.] ||  1.0\n",
            "[0.] ||  0.0\n"
          ]
        }
      ]
    },
    {
      "cell_type": "markdown",
      "source": [
        "Confusion matrix of the models performance on testing data."
      ],
      "metadata": {
        "id": "-ADpU5cnyab7"
      }
    },
    {
      "cell_type": "code",
      "source": [
        "from sklearn.metrics import confusion_matrix\n",
        "cm = confusion_matrix(y_test, predictions)\n",
        "sbn.heatmap(cm, annot=True)"
      ],
      "metadata": {
        "colab": {
          "base_uri": "https://localhost:8080/",
          "height": 286
        },
        "id": "d5_68lEWeahf",
        "outputId": "494a7e81-47fa-4429-e246-c9dd182d46d1"
      },
      "execution_count": null,
      "outputs": [
        {
          "output_type": "execute_result",
          "data": {
            "text/plain": [
              "<matplotlib.axes._subplots.AxesSubplot at 0x7f30c45c8990>"
            ]
          },
          "metadata": {},
          "execution_count": 45
        },
        {
          "output_type": "display_data",
          "data": {
            "text/plain": [
              "<Figure size 432x288 with 2 Axes>"
            ],
            "image/png": "[encoded data removed]"
          },
          "metadata": {
            "needs_background": "light"
          }
        }
      ]
    }
  ]
}